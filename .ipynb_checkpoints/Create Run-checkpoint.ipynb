{
 "cells": [
  {
   "cell_type": "code",
   "execution_count": 3,
   "metadata": {},
   "outputs": [],
   "source": [
    "import numpy as np\n",
    "import pandas as pd\n",
    "import random as rand\n",
    "import matplotlib.pyplot as plt"
   ]
  },
  {
   "cell_type": "code",
   "execution_count": 4,
   "metadata": {},
   "outputs": [],
   "source": [
    "def weighted_random_question(agreement_val, correct_ans):\n",
    "    my_list = []\n",
    "    for i in np.arange(1, 6):\n",
    "        if i == correct_ans:\n",
    "            my_list += [str(correct_ans)] * int(agreement_val * 100)\n",
    "        else:\n",
    "            if agreement_val >= 0.5:\n",
    "                my_list += [str(i)] * int((1 - agreement_val) / abs(correct_ans - i) * 100)\n",
    "            else:\n",
    "                my_list += [str(i)] * int((1 - agreement_val) * abs(correct_ans - i) * 100)\n",
    "    return int(rand.choice(my_list))"
   ]
  },
  {
   "cell_type": "code",
   "execution_count": 5,
   "metadata": {},
   "outputs": [],
   "source": [
    "def weighted_random_pos_old(agreement_val, correct_ans, source_length):\n",
    "    pos_range = int((1 - agreement_val) ** 2 / 2 * source_length)\n",
    "    start = correct_ans - pos_range\n",
    "    end = correct_ans + pos_range + 1\n",
    "    if start < 0:\n",
    "        start = 0\n",
    "    if end > source_length:\n",
    "        end = source_length\n",
    "    interval = np.arange(start, end)\n",
    "    result = []\n",
    "    for i in interval:\n",
    "        if i == correct_ans:\n",
    "            result += [str(i)] * int(agreement_val ** 2 * 100)\n",
    "        else:\n",
    "            result += [str(i)] * int(agreement_val ** 2/ (abs(correct_ans - i)) * 100)\n",
    "    return int(rand.choice(result))"
   ]
  },
  {
   "cell_type": "code",
   "execution_count": 6,
   "metadata": {},
   "outputs": [],
   "source": [
    "def weighted_random_pos(agreement_val, correct_ans, source_length):\n",
    "    normal = np.random.normal(correct_ans, (1 - agreement_val) * 2 * source_length ** 0.5, 10000)\n",
    "    return int(rand.choice(normal))"
   ]
  },
  {
   "cell_type": "code",
   "execution_count": 7,
   "metadata": {},
   "outputs": [],
   "source": [
    "def get_highlight_length():\n",
    "    normal = np.random.normal(50, 12, 10000)\n",
    "    return int(rand.choice(normal))"
   ]
  },
  {
   "cell_type": "code",
   "execution_count": 8,
   "metadata": {},
   "outputs": [],
   "source": [
    "def generate_agreement(agreement, num_users, num_questions, source_len):\n",
    "    answer_number= np.zeros(0)\n",
    "    start_pos = np.zeros(0)\n",
    "    end_pos = np.zeros(0)\n",
    "    for i in np.arange(num_questions):\n",
    "        correct_ans = rand.randint(1, 5)\n",
    "        correct_start = rand.randint(source_len / 4, source_len / 2)\n",
    "        correct_end = correct_start + get_highlight_length()\n",
    "        for j in np.arange(num_users):\n",
    "            answer_number = np.append(answer_number, weighted_random_question(agreement[j], correct_ans))\n",
    "            start = weighted_random_pos(agreement[j], correct_start, source_len)\n",
    "            end = weighted_random_pos(agreement[j], correct_end, source_len)\n",
    "            if start > end:\n",
    "                temp = start\n",
    "                start = end\n",
    "                end = temp\n",
    "            start_pos = np.append(start_pos, start)\n",
    "            end_pos = np.append(end_pos, end)\n",
    "    return answer_number, start_pos, end_pos"
   ]
  },
  {
   "cell_type": "code",
   "execution_count": 9,
   "metadata": {},
   "outputs": [],
   "source": [
    "def create_run(agreement, num_run, num_users = 5, num_questions = 10, source_len = 4000, ans_type_prop = [1, 0]):\n",
    "    rows = np.zeros(num_users * num_questions)\n",
    "    inputs = generate_agreement(agreement, num_users, num_questions, source_len)\n",
    "    d = {'taskrun_article_number': rows + num_run, \n",
    "         'contributor_id': np.tile(np.arange(1, num_users + 1), num_questions), \n",
    "         'question_number': np.repeat(np.arange(1, num_questions + 1), num_users), \n",
    "         'answer_number': inputs[0], 'start_pos': inputs[1], \n",
    "         'end_pos': inputs[2], 'source_text_length': rows + source_len, \n",
    "         'answer_type': np.append(np.repeat('nominal', int(ans_type_prop[0] * len(rows))),\n",
    "                                       np.repeat('ordinal', int(ans_type_prop[1] * len(rows)))),\n",
    "         'question_text': rows}\n",
    "    run = pd.DataFrame(d)\n",
    "    run = run[['taskrun_article_number', 'contributor_id', \n",
    "         'question_number', 'answer_number', 'start_pos', \n",
    "         'end_pos', 'source_text_length', 'answer_type', 'question_text']]\n",
    "    return run"
   ]
  },
  {
   "cell_type": "code",
   "execution_count": 10,
   "metadata": {},
   "outputs": [],
   "source": [
    "def create_series(agreement_arr, ans_type_prop = [1, 0]):\n",
    "    for i in np.arange(len(agreement_arr)):\n",
    "        current = create_run(agreement_arr[i], i, ans_type_prop = ans_type_prop)\n",
    "        current.to_csv('Series_Output/Run' + str(i) + '.csv')"
   ]
  },
  {
   "cell_type": "code",
   "execution_count": 11,
   "metadata": {},
   "outputs": [],
   "source": [
    "create_series([[0.9, 0.9, 0.9, 0.5, 0.1], [0.9, 0.9, 0.9, 0.5, 0.2], [0.9, 0.9, 0.9, 0.6, 0.3], \n",
    "               [0.9, 0.9, 0.9, 0.7, 0.4], [0.9, 0.9, 0.9, 0.8, 0.5], [0.9, 0.9, 0.9, 0.9, 0.5], \n",
    "               [0.9, 0.9, 0.9, 0.1, 0.6], [0.9, 0.9, 0.9, 0.1, 0.7], [0.9, 0.9, 0.9, 0.1, 0.8], \n",
    "               [0.9, 0.9, 0.9, 0.1, 0.9]])"
   ]
  },
  {
   "cell_type": "code",
   "execution_count": 12,
   "metadata": {},
   "outputs": [],
   "source": [
    "create_series([[0.7, 0.7, 0.7, 0.7, 0.1], [0.7, 0.7, 0.7, 0.7, 0.5], [0.7, 0.7, 0.7, 0.7, 0.6], \n",
    "              [0.7, 0.7, 0.7, 0.7, 0.7], [0.7, 0.7, 0.7, 0.7, 0.8], [0.7, 0.7, 0.7, 0.7, 0.9],\n",
    "              [0.7, 0.7, 0.7, 0.7, 0.9], [0.7, 0.7, 0.7, 0.7, 0.9], [0.7, 0.7, 0.7, 0.7, 0.9],\n",
    "              [0.7, 0.7, 0.7, 0.7, 0.9]])"
   ]
  },
  {
   "cell_type": "code",
   "execution_count": 13,
   "metadata": {},
   "outputs": [],
   "source": [
    "def create_arrays():\n",
    "    dude = []\n",
    "    array = [.9, .9, .1, .5, .1]\n",
    "    inflection = False\n",
    "    for i in range(50):\n",
    "        if array[2] < 0.9:\n",
    "            array[2] += 0.02\n",
    "        if inflection == False and array[3] < 0.9:\n",
    "            array[3] += 0.01\n",
    "        if array[3] >= 0.9 or inflection == True:\n",
    "            inflection = True\n",
    "            array[3] -= 0.07\n",
    "        dude.append(array[:])\n",
    "    print(dude)\n",
    "    return dude"
   ]
  },
  {
   "cell_type": "code",
   "execution_count": 14,
   "metadata": {},
   "outputs": [
    {
     "name": "stdout",
     "output_type": "stream",
     "text": [
      "[[0.9, 0.9, 0.12000000000000001, 0.51, 0.1], [0.9, 0.9, 0.14, 0.52, 0.1], [0.9, 0.9, 0.16, 0.53, 0.1], [0.9, 0.9, 0.18, 0.54, 0.1], [0.9, 0.9, 0.19999999999999998, 0.55, 0.1], [0.9, 0.9, 0.21999999999999997, 0.56, 0.1], [0.9, 0.9, 0.23999999999999996, 0.5700000000000001, 0.1], [0.9, 0.9, 0.25999999999999995, 0.5800000000000001, 0.1], [0.9, 0.9, 0.27999999999999997, 0.5900000000000001, 0.1], [0.9, 0.9, 0.3, 0.6000000000000001, 0.1], [0.9, 0.9, 0.32, 0.6100000000000001, 0.1], [0.9, 0.9, 0.34, 0.6200000000000001, 0.1], [0.9, 0.9, 0.36000000000000004, 0.6300000000000001, 0.1], [0.9, 0.9, 0.38000000000000006, 0.6400000000000001, 0.1], [0.9, 0.9, 0.4000000000000001, 0.6500000000000001, 0.1], [0.9, 0.9, 0.4200000000000001, 0.6600000000000001, 0.1], [0.9, 0.9, 0.4400000000000001, 0.6700000000000002, 0.1], [0.9, 0.9, 0.46000000000000013, 0.6800000000000002, 0.1], [0.9, 0.9, 0.48000000000000015, 0.6900000000000002, 0.1], [0.9, 0.9, 0.5000000000000001, 0.7000000000000002, 0.1], [0.9, 0.9, 0.5200000000000001, 0.7100000000000002, 0.1], [0.9, 0.9, 0.5400000000000001, 0.7200000000000002, 0.1], [0.9, 0.9, 0.5600000000000002, 0.7300000000000002, 0.1], [0.9, 0.9, 0.5800000000000002, 0.7400000000000002, 0.1], [0.9, 0.9, 0.6000000000000002, 0.7500000000000002, 0.1], [0.9, 0.9, 0.6200000000000002, 0.7600000000000002, 0.1], [0.9, 0.9, 0.6400000000000002, 0.7700000000000002, 0.1], [0.9, 0.9, 0.6600000000000003, 0.7800000000000002, 0.1], [0.9, 0.9, 0.6800000000000003, 0.7900000000000003, 0.1], [0.9, 0.9, 0.7000000000000003, 0.8000000000000003, 0.1], [0.9, 0.9, 0.7200000000000003, 0.8100000000000003, 0.1], [0.9, 0.9, 0.7400000000000003, 0.8200000000000003, 0.1], [0.9, 0.9, 0.7600000000000003, 0.8300000000000003, 0.1], [0.9, 0.9, 0.7800000000000004, 0.8400000000000003, 0.1], [0.9, 0.9, 0.8000000000000004, 0.8500000000000003, 0.1], [0.9, 0.9, 0.8200000000000004, 0.8600000000000003, 0.1], [0.9, 0.9, 0.8400000000000004, 0.8700000000000003, 0.1], [0.9, 0.9, 0.8600000000000004, 0.8800000000000003, 0.1], [0.9, 0.9, 0.8800000000000004, 0.8900000000000003, 0.1], [0.9, 0.9, 0.9000000000000005, 0.8300000000000003, 0.1], [0.9, 0.9, 0.9000000000000005, 0.7600000000000002, 0.1], [0.9, 0.9, 0.9000000000000005, 0.6900000000000002, 0.1], [0.9, 0.9, 0.9000000000000005, 0.6200000000000001, 0.1], [0.9, 0.9, 0.9000000000000005, 0.55, 0.1], [0.9, 0.9, 0.9000000000000005, 0.48000000000000004, 0.1], [0.9, 0.9, 0.9000000000000005, 0.41000000000000003, 0.1], [0.9, 0.9, 0.9000000000000005, 0.34, 0.1], [0.9, 0.9, 0.9000000000000005, 0.27, 0.1], [0.9, 0.9, 0.9000000000000005, 0.2, 0.1], [0.9, 0.9, 0.9000000000000005, 0.13, 0.1]]\n"
     ]
    }
   ],
   "source": [
    "create_series(create_arrays(), ans_type_prop = [0.7, 0.3])"
   ]
  },
  {
   "cell_type": "code",
   "execution_count": 44,
   "metadata": {},
   "outputs": [
    {
     "data": {
      "image/png": "[encoded data removed]",
      "text/plain": [
       "<Figure size 432x288 with 1 Axes>"
      ]
     },
     "metadata": {},
     "output_type": "display_data"
    }
   ],
   "source": [
    "my_list = []\n",
    "correct_ans = 3\n",
    "agreement_val = 0.1\n",
    "for i in np.arange(1, 6):\n",
    "    if i == correct_ans:\n",
    "        my_list += [str(correct_ans)] * int(agreement_val * 100)\n",
    "    else:\n",
    "        if agreement_val >= 0.5:\n",
    "            my_list += [str(i)] * int((1 - agreement_val) / abs(correct_ans - i) * 100)\n",
    "        else:\n",
    "            my_list += [str(i)] * int((1 - agreement_val) * abs(correct_ans - i) * 100)\n",
    "plt.hist(my_list)\n",
    "plt.show()"
   ]
  },
  {
   "cell_type": "code",
   "execution_count": 39,
   "metadata": {},
   "outputs": [
    {
     "name": "stdout",
     "output_type": "stream",
     "text": [
      "710\n",
      "1610\n",
      "0 1610\n",
      "200\n",
      "['610', '611', '612', '613', '614', '615', '616', '617', '618', '619', '620', '621', '622', '623', '624', '625', '626', '627', '628', '629', '630', '631', '632', '633', '634', '635', '636', '637', '638', '639', '640', '641', '642', '643', '644', '645', '646', '647', '648', '649', '650', '651', '652', '653', '654', '655', '656', '657', '658', '659', '660', '660', '661', '661', '662', '662', '663', '663', '664', '664', '665', '665', '666', '666', '667', '667', '668', '668', '669', '669', '670', '670', '671', '671', '672', '672', '673', '673', '674', '674', '675', '675', '676', '676', '677', '677', '677', '678', '678', '678', '679', '679', '679', '680', '680', '680', '681', '681', '681', '682', '682', '682', '683', '683', '683', '684', '684', '684', '685', '685', '685', '685', '686', '686', '686', '686', '687', '687', '687', '687', '688', '688', '688', '688', '689', '689', '689', '689', '690', '690', '690', '690', '690', '691', '691', '691', '691', '691', '692', '692', '692', '692', '692', '693', '693', '693', '693', '693', '694', '694', '694', '694', '694', '694', '695', '695', '695', '695', '695', '695', '696', '696', '696', '696', '696', '696', '696', '697', '697', '697', '697', '697', '697', '697', '698', '698', '698', '698', '698', '698', '698', '698', '699', '699', '699', '699', '699', '699', '699', '699', '699', '700', '700', '700', '700', '700', '700', '700', '700', '700', '700', '701', '701', '701', '701', '701', '701', '701', '701', '701', '701', '701', '702', '702', '702', '702', '702', '702', '702', '702', '702', '702', '702', '702', '703', '703', '703', '703', '703', '703', '703', '703', '703', '703', '703', '703', '703', '703', '704', '704', '704', '704', '704', '704', '704', '704', '704', '704', '704', '704', '704', '704', '704', '704', '705', '705', '705', '705', '705', '705', '705', '705', '705', '705', '705', '705', '705', '705', '705', '705', '705', '705', '705', '705', '706', '706', '706', '706', '706', '706', '706', '706', '706', '706', '706', '706', '706', '706', '706', '706', '706', '706', '706', '706', '706', '706', '706', '706', '706', '707', '707', '707', '707', '707', '707', '707', '707', '707', '707', '707', '707', '707', '707', '707', '707', '707', '707', '707', '707', '707', '707', '707', '707', '707', '707', '707', '707', '707', '707', '707', '707', '707', '708', '708', '708', '708', '708', '708', '708', '708', '708', '708', '708', '708', '708', '708', '708', '708', '708', '708', '708', '708', '708', '708', '708', '708', '708', '708', '708', '708', '708', '708', '708', '708', '708', '708', '708', '708', '708', '708', '708', '708', '708', '708', '708', '708', '708', '708', '708', '708', '708', '708', '709', '709', '709', '709', '709', '709', '709', '709', '709', '709', '709', '709', '709', '709', '709', '709', '709', '709', '709', '709', '709', '709', '709', '709', '709', '709', '709', '709', '709', '709', '709', '709', '709', '709', '709', '709', '709', '709', '709', '709', '709', '709', '709', '709', '709', '709', '709', '709', '709', '709', '709', '709', '709', '709', '709', '709', '709', '709', '709', '709', '709', '709', '709', '709', '709', '709', '709', '709', '709', '709', '709', '709', '709', '709', '709', '709', '709', '709', '709', '709', '709', '709', '709', '709', '709', '709', '709', '709', '709', '709', '709', '709', '709', '709', '709', '709', '709', '709', '709', '709', '710', '710', '710', '710', '710', '710', '710', '710', '710', '710', '710', '710', '710', '710', '710', '710', '710', '710', '710', '710', '710', '710', '710', '710', '710', '710', '710', '710', '710', '710', '710', '710', '710', '710', '710', '710', '710', '710', '710', '710', '710', '710', '710', '710', '710', '710', '710', '710', '710', '710', '710', '710', '710', '710', '710', '710', '710', '710', '710', '710', '710', '710', '710', '710', '710', '710', '710', '710', '710', '710', '710', '710', '710', '710', '710', '710', '710', '710', '710', '711', '711', '711', '711', '711', '711', '711', '711', '711', '711', '711', '711', '711', '711', '711', '711', '711', '711', '711', '711', '711', '711', '711', '711', '711', '711', '711', '711', '711', '711', '711', '711', '711', '711', '711', '711', '711', '711', '711', '711', '711', '711', '711', '711', '711', '711', '711', '711', '711', '711', '711', '711', '711', '711', '711', '711', '711', '711', '711', '711', '711', '711', '711', '711', '711', '711', '711', '711', '711', '711', '711', '711', '711', '711', '711', '711', '711', '711', '711', '711', '711', '711', '711', '711', '711', '711', '711', '711', '711', '711', '711', '711', '711', '711', '711', '711', '711', '711', '711', '711', '712', '712', '712', '712', '712', '712', '712', '712', '712', '712', '712', '712', '712', '712', '712', '712', '712', '712', '712', '712', '712', '712', '712', '712', '712', '712', '712', '712', '712', '712', '712', '712', '712', '712', '712', '712', '712', '712', '712', '712', '712', '712', '712', '712', '712', '712', '712', '712', '712', '712', '713', '713', '713', '713', '713', '713', '713', '713', '713', '713', '713', '713', '713', '713', '713', '713', '713', '713', '713', '713', '713', '713', '713', '713', '713', '713', '713', '713', '713', '713', '713', '713', '713', '714', '714', '714', '714', '714', '714', '714', '714', '714', '714', '714', '714', '714', '714', '714', '714', '714', '714', '714', '714', '714', '714', '714', '714', '714', '715', '715', '715', '715', '715', '715', '715', '715', '715', '715', '715', '715', '715', '715', '715', '715', '715', '715', '715', '715', '716', '716', '716', '716', '716', '716', '716', '716', '716', '716', '716', '716', '716', '716', '716', '716', '717', '717', '717', '717', '717', '717', '717', '717', '717', '717', '717', '717', '717', '717', '718', '718', '718', '718', '718', '718', '718', '718', '718', '718', '718', '718', '719', '719', '719', '719', '719', '719', '719', '719', '719', '719', '719', '720', '720', '720', '720', '720', '720', '720', '720', '720', '720', '721', '721', '721', '721', '721', '721', '721', '721', '721', '722', '722', '722', '722', '722', '722', '722', '722', '723', '723', '723', '723', '723', '723', '723', '724', '724', '724', '724', '724', '724', '724', '725', '725', '725', '725', '725', '725', '726', '726', '726', '726', '726', '726', '727', '727', '727', '727', '727', '728', '728', '728', '728', '728', '729', '729', '729', '729', '729', '730', '730', '730', '730', '730', '731', '731', '731', '731', '732', '732', '732', '732', '733', '733', '733', '733', '734', '734', '734', '734', '735', '735', '735', '735', '736', '736', '736', '737', '737', '737', '738', '738', '738', '739', '739', '739', '740', '740', '740', '741', '741', '741', '742', '742', '742', '743', '743', '743', '744', '744', '745', '745', '746', '746', '747', '747', '748', '748', '749', '749', '750', '750', '751', '751', '752', '752', '753', '753', '754', '754', '755', '755', '756', '756', '757', '757', '758', '758', '759', '759', '760', '760', '761', '762', '763', '764', '765', '766', '767', '768', '769', '770', '771', '772', '773', '774', '775', '776', '777', '778', '779', '780', '781', '782', '783', '784', '785', '786', '787', '788', '789', '790', '791', '792', '793', '794', '795', '796', '797', '798', '799', '800', '801', '802', '803', '804', '805', '806', '807', '808', '809', '810']\n"
     ]
    },
    {
     "name": "stderr",
     "output_type": "stream",
     "text": [
      "C:\\ProgramData\\Anaconda3\\lib\\site-packages\\matplotlib\\cbook\\deprecation.py:107: MatplotlibDeprecationWarning: Passing one of 'on', 'true', 'off', 'false' as a boolean is deprecated; use an actual boolean (True/False) instead.\n",
      "  warnings.warn(message, mplDeprecation, stacklevel=1)\n"
     ]
    },
    {
     "data": {
      "image/png": "[encoded data removed]",
      "text/plain": [
       "<Figure size 2304x1296 with 1 Axes>"
      ]
     },
     "metadata": {},
     "output_type": "display_data"
    }
   ],
   "source": [
    "source_length = 2000\n",
    "correct_ans = rand.randint(source_length / 4, source_length / 2)\n",
    "#correct_ans = rand.randint(correct_start, source_length)\n",
    "agreement_val = 0.1\n",
    "pos_range = int((1 - agreement_val) / 2 * source_length)\n",
    "start = correct_ans - pos_range\n",
    "end = correct_ans + pos_range + 1\n",
    "if start < 0:\n",
    "    start = 0\n",
    "if end > source_length:\n",
    "    end = source_length\n",
    "interval = np.arange(start, end)\n",
    "result = []\n",
    "for i in interval:\n",
    "    if i == correct_ans:\n",
    "        result += [str(i)] * int(agreement_val ** agreement_val * 100)\n",
    "    else:\n",
    "        result += [str(i)] * int(agreement_val / (abs(correct_ans - i) * agreement_val)  * 100)\n",
    "print(correct_ans)\n",
    "print(int(interval[len(interval) - 1]) - int(interval[0]))\n",
    "print(int(interval[0]), int(interval[len(interval) - 1]))\n",
    "print(int(result[len(result) - 1]) - int(result[0]))\n",
    "print(result)\n",
    "plt.figure(figsize = (32, 18))\n",
    "plt.grid('on')\n",
    "plt.hist(result)\n",
    "plt.show()"
   ]
  },
  {
   "cell_type": "code",
   "execution_count": 14,
   "metadata": {},
   "outputs": [
    {
     "name": "stdout",
     "output_type": "stream",
     "text": [
      "1440\n",
      "1428\n"
     ]
    },
    {
     "name": "stderr",
     "output_type": "stream",
     "text": [
      "C:\\ProgramData\\Anaconda3\\lib\\site-packages\\matplotlib\\cbook\\deprecation.py:107: MatplotlibDeprecationWarning: Passing one of 'on', 'true', 'off', 'false' as a boolean is deprecated; use an actual boolean (True/False) instead.\n",
      "  warnings.warn(message, mplDeprecation, stacklevel=1)\n"
     ]
    },
    {
     "data": {
      "image/png": "[encoded data removed]",
      "text/plain": [
       "<Figure size 1152x648 with 1 Axes>"
      ]
     },
     "metadata": {},
     "output_type": "display_data"
    }
   ],
   "source": [
    "agreement_val = 0.9\n",
    "source_length = 4000\n",
    "correct_ans = rand.randint(source_length / 4, source_length / 2)\n",
    "print(correct_ans)\n",
    "normal = np.random.normal(correct_ans, (1 - agreement_val) * 2 * source_length ** 0.5, 10000)\n",
    "print(int(rand.choice(normal)))\n",
    "plt.figure(figsize = (16, 9))\n",
    "plt.grid('on')\n",
    "plt.hist(normal)\n",
    "plt.show()"
   ]
  },
  {
   "cell_type": "code",
   "execution_count": 61,
   "metadata": {},
   "outputs": [
    {
     "data": {
      "text/plain": [
       "array([1299.81542388, 1298.62059685, 1303.43140591, ..., 1300.91581038,\n",
       "       1302.3158684 , 1304.22110321])"
      ]
     },
     "execution_count": 61,
     "metadata": {},
     "output_type": "execute_result"
    }
   ],
   "source": [
    "normal"
   ]
  },
  {
   "cell_type": "code",
   "execution_count": null,
   "metadata": {
    "collapsed": true
   },
   "outputs": [],
   "source": []
  }
 ],
 "metadata": {
  "kernelspec": {
   "display_name": "Python 3",
   "language": "python",
   "name": "python3"
  },
  "language_info": {
   "codemirror_mode": {
    "name": "ipython",
    "version": 3
   },
   "file_extension": ".py",
   "mimetype": "text/x-python",
   "name": "python",
   "nbconvert_exporter": "python",
   "pygments_lexer": "ipython3",
   "version": "3.6.5"
  }
 },
 "nbformat": 4,
 "nbformat_minor": 2
}
