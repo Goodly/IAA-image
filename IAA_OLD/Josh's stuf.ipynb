{
 "cells": [
  {
   "cell_type": "code",
   "execution_count": 1,
   "metadata": {
    "collapsed": true
   },
   "outputs": [],
   "source": [
    "import pandas as pd\n",
    "import numpy as np\n",
    "import sys\n",
    "from math import exp\n",
    "import matplotlib.pyplot as plt"
   ]
  },
  {
   "cell_type": "code",
   "execution_count": 2,
   "metadata": {},
   "outputs": [
    {
     "ename": "FileNotFoundError",
     "evalue": "File b'PE_test_data - Sheet1.csv' does not exist",
     "output_type": "error",
     "traceback": [
      "\u001b[0;31m---------------------------------------------------------------------------\u001b[0m",
      "\u001b[0;31mFileNotFoundError\u001b[0m                         Traceback (most recent call last)",
      "\u001b[0;32m<ipython-input-2-d41683d4115d>\u001b[0m in \u001b[0;36m<module>\u001b[0;34m()\u001b[0m\n\u001b[1;32m      1\u001b[0m \u001b[0mdata\u001b[0m \u001b[0;34m=\u001b[0m \u001b[0mpd\u001b[0m\u001b[0;34m.\u001b[0m\u001b[0mread_csv\u001b[0m\u001b[0;34m(\u001b[0m\u001b[0;34m\"pe_data/pe_users_13_14_15-2018-03-19T18.csv\"\u001b[0m\u001b[0;34m)\u001b[0m\u001b[0;34m\u001b[0m\u001b[0m\n\u001b[1;32m      2\u001b[0m \u001b[0mdata\u001b[0m\u001b[0;34m\u001b[0m\u001b[0m\n\u001b[0;32m----> 3\u001b[0;31m \u001b[0mdata2\u001b[0m \u001b[0;34m=\u001b[0m \u001b[0mpd\u001b[0m\u001b[0;34m.\u001b[0m\u001b[0mread_csv\u001b[0m\u001b[0;34m(\u001b[0m\u001b[0;34m\"PE_test_data - Sheet1.csv\"\u001b[0m\u001b[0;34m)\u001b[0m\u001b[0;34m\u001b[0m\u001b[0m\n\u001b[0m\u001b[1;32m      4\u001b[0m \u001b[0mdata2\u001b[0m\u001b[0;34m\u001b[0m\u001b[0m\n\u001b[1;32m      5\u001b[0m \u001b[0;34m\u001b[0m\u001b[0m\n",
      "\u001b[0;32m/Users/JoshuaChung/anaconda3/lib/python3.6/site-packages/pandas/io/parsers.py\u001b[0m in \u001b[0;36mparser_f\u001b[0;34m(filepath_or_buffer, sep, delimiter, header, names, index_col, usecols, squeeze, prefix, mangle_dupe_cols, dtype, engine, converters, true_values, false_values, skipinitialspace, skiprows, nrows, na_values, keep_default_na, na_filter, verbose, skip_blank_lines, parse_dates, infer_datetime_format, keep_date_col, date_parser, dayfirst, iterator, chunksize, compression, thousands, decimal, lineterminator, quotechar, quoting, escapechar, comment, encoding, dialect, tupleize_cols, error_bad_lines, warn_bad_lines, skipfooter, skip_footer, doublequote, delim_whitespace, as_recarray, compact_ints, use_unsigned, low_memory, buffer_lines, memory_map, float_precision)\u001b[0m\n\u001b[1;32m    653\u001b[0m                     skip_blank_lines=skip_blank_lines)\n\u001b[1;32m    654\u001b[0m \u001b[0;34m\u001b[0m\u001b[0m\n\u001b[0;32m--> 655\u001b[0;31m         \u001b[0;32mreturn\u001b[0m \u001b[0m_read\u001b[0m\u001b[0;34m(\u001b[0m\u001b[0mfilepath_or_buffer\u001b[0m\u001b[0;34m,\u001b[0m \u001b[0mkwds\u001b[0m\u001b[0;34m)\u001b[0m\u001b[0;34m\u001b[0m\u001b[0m\n\u001b[0m\u001b[1;32m    656\u001b[0m \u001b[0;34m\u001b[0m\u001b[0m\n\u001b[1;32m    657\u001b[0m     \u001b[0mparser_f\u001b[0m\u001b[0;34m.\u001b[0m\u001b[0m__name__\u001b[0m \u001b[0;34m=\u001b[0m \u001b[0mname\u001b[0m\u001b[0;34m\u001b[0m\u001b[0m\n",
      "\u001b[0;32m/Users/JoshuaChung/anaconda3/lib/python3.6/site-packages/pandas/io/parsers.py\u001b[0m in \u001b[0;36m_read\u001b[0;34m(filepath_or_buffer, kwds)\u001b[0m\n\u001b[1;32m    403\u001b[0m \u001b[0;34m\u001b[0m\u001b[0m\n\u001b[1;32m    404\u001b[0m     \u001b[0;31m# Create the parser.\u001b[0m\u001b[0;34m\u001b[0m\u001b[0;34m\u001b[0m\u001b[0m\n\u001b[0;32m--> 405\u001b[0;31m     \u001b[0mparser\u001b[0m \u001b[0;34m=\u001b[0m \u001b[0mTextFileReader\u001b[0m\u001b[0;34m(\u001b[0m\u001b[0mfilepath_or_buffer\u001b[0m\u001b[0;34m,\u001b[0m \u001b[0;34m**\u001b[0m\u001b[0mkwds\u001b[0m\u001b[0;34m)\u001b[0m\u001b[0;34m\u001b[0m\u001b[0m\n\u001b[0m\u001b[1;32m    406\u001b[0m \u001b[0;34m\u001b[0m\u001b[0m\n\u001b[1;32m    407\u001b[0m     \u001b[0;32mif\u001b[0m \u001b[0mchunksize\u001b[0m \u001b[0;32mor\u001b[0m \u001b[0miterator\u001b[0m\u001b[0;34m:\u001b[0m\u001b[0;34m\u001b[0m\u001b[0m\n",
      "\u001b[0;32m/Users/JoshuaChung/anaconda3/lib/python3.6/site-packages/pandas/io/parsers.py\u001b[0m in \u001b[0;36m__init__\u001b[0;34m(self, f, engine, **kwds)\u001b[0m\n\u001b[1;32m    760\u001b[0m             \u001b[0mself\u001b[0m\u001b[0;34m.\u001b[0m\u001b[0moptions\u001b[0m\u001b[0;34m[\u001b[0m\u001b[0;34m'has_index_names'\u001b[0m\u001b[0;34m]\u001b[0m \u001b[0;34m=\u001b[0m \u001b[0mkwds\u001b[0m\u001b[0;34m[\u001b[0m\u001b[0;34m'has_index_names'\u001b[0m\u001b[0;34m]\u001b[0m\u001b[0;34m\u001b[0m\u001b[0m\n\u001b[1;32m    761\u001b[0m \u001b[0;34m\u001b[0m\u001b[0m\n\u001b[0;32m--> 762\u001b[0;31m         \u001b[0mself\u001b[0m\u001b[0;34m.\u001b[0m\u001b[0m_make_engine\u001b[0m\u001b[0;34m(\u001b[0m\u001b[0mself\u001b[0m\u001b[0;34m.\u001b[0m\u001b[0mengine\u001b[0m\u001b[0;34m)\u001b[0m\u001b[0;34m\u001b[0m\u001b[0m\n\u001b[0m\u001b[1;32m    763\u001b[0m \u001b[0;34m\u001b[0m\u001b[0m\n\u001b[1;32m    764\u001b[0m     \u001b[0;32mdef\u001b[0m \u001b[0mclose\u001b[0m\u001b[0;34m(\u001b[0m\u001b[0mself\u001b[0m\u001b[0;34m)\u001b[0m\u001b[0;34m:\u001b[0m\u001b[0;34m\u001b[0m\u001b[0m\n",
      "\u001b[0;32m/Users/JoshuaChung/anaconda3/lib/python3.6/site-packages/pandas/io/parsers.py\u001b[0m in \u001b[0;36m_make_engine\u001b[0;34m(self, engine)\u001b[0m\n\u001b[1;32m    964\u001b[0m     \u001b[0;32mdef\u001b[0m \u001b[0m_make_engine\u001b[0m\u001b[0;34m(\u001b[0m\u001b[0mself\u001b[0m\u001b[0;34m,\u001b[0m \u001b[0mengine\u001b[0m\u001b[0;34m=\u001b[0m\u001b[0;34m'c'\u001b[0m\u001b[0;34m)\u001b[0m\u001b[0;34m:\u001b[0m\u001b[0;34m\u001b[0m\u001b[0m\n\u001b[1;32m    965\u001b[0m         \u001b[0;32mif\u001b[0m \u001b[0mengine\u001b[0m \u001b[0;34m==\u001b[0m \u001b[0;34m'c'\u001b[0m\u001b[0;34m:\u001b[0m\u001b[0;34m\u001b[0m\u001b[0m\n\u001b[0;32m--> 966\u001b[0;31m             \u001b[0mself\u001b[0m\u001b[0;34m.\u001b[0m\u001b[0m_engine\u001b[0m \u001b[0;34m=\u001b[0m \u001b[0mCParserWrapper\u001b[0m\u001b[0;34m(\u001b[0m\u001b[0mself\u001b[0m\u001b[0;34m.\u001b[0m\u001b[0mf\u001b[0m\u001b[0;34m,\u001b[0m \u001b[0;34m**\u001b[0m\u001b[0mself\u001b[0m\u001b[0;34m.\u001b[0m\u001b[0moptions\u001b[0m\u001b[0;34m)\u001b[0m\u001b[0;34m\u001b[0m\u001b[0m\n\u001b[0m\u001b[1;32m    967\u001b[0m         \u001b[0;32melse\u001b[0m\u001b[0;34m:\u001b[0m\u001b[0;34m\u001b[0m\u001b[0m\n\u001b[1;32m    968\u001b[0m             \u001b[0;32mif\u001b[0m \u001b[0mengine\u001b[0m \u001b[0;34m==\u001b[0m \u001b[0;34m'python'\u001b[0m\u001b[0;34m:\u001b[0m\u001b[0;34m\u001b[0m\u001b[0m\n",
      "\u001b[0;32m/Users/JoshuaChung/anaconda3/lib/python3.6/site-packages/pandas/io/parsers.py\u001b[0m in \u001b[0;36m__init__\u001b[0;34m(self, src, **kwds)\u001b[0m\n\u001b[1;32m   1580\u001b[0m         \u001b[0mkwds\u001b[0m\u001b[0;34m[\u001b[0m\u001b[0;34m'allow_leading_cols'\u001b[0m\u001b[0;34m]\u001b[0m \u001b[0;34m=\u001b[0m \u001b[0mself\u001b[0m\u001b[0;34m.\u001b[0m\u001b[0mindex_col\u001b[0m \u001b[0;32mis\u001b[0m \u001b[0;32mnot\u001b[0m \u001b[0;32mFalse\u001b[0m\u001b[0;34m\u001b[0m\u001b[0m\n\u001b[1;32m   1581\u001b[0m \u001b[0;34m\u001b[0m\u001b[0m\n\u001b[0;32m-> 1582\u001b[0;31m         \u001b[0mself\u001b[0m\u001b[0;34m.\u001b[0m\u001b[0m_reader\u001b[0m \u001b[0;34m=\u001b[0m \u001b[0mparsers\u001b[0m\u001b[0;34m.\u001b[0m\u001b[0mTextReader\u001b[0m\u001b[0;34m(\u001b[0m\u001b[0msrc\u001b[0m\u001b[0;34m,\u001b[0m \u001b[0;34m**\u001b[0m\u001b[0mkwds\u001b[0m\u001b[0;34m)\u001b[0m\u001b[0;34m\u001b[0m\u001b[0m\n\u001b[0m\u001b[1;32m   1583\u001b[0m \u001b[0;34m\u001b[0m\u001b[0m\n\u001b[1;32m   1584\u001b[0m         \u001b[0;31m# XXX\u001b[0m\u001b[0;34m\u001b[0m\u001b[0;34m\u001b[0m\u001b[0m\n",
      "\u001b[0;32mpandas/_libs/parsers.pyx\u001b[0m in \u001b[0;36mpandas._libs.parsers.TextReader.__cinit__ (pandas/_libs/parsers.c:4209)\u001b[0;34m()\u001b[0m\n",
      "\u001b[0;32mpandas/_libs/parsers.pyx\u001b[0m in \u001b[0;36mpandas._libs.parsers.TextReader._setup_parser_source (pandas/_libs/parsers.c:8873)\u001b[0;34m()\u001b[0m\n",
      "\u001b[0;31mFileNotFoundError\u001b[0m: File b'PE_test_data - Sheet1.csv' does not exist"
     ]
    }
   ],
   "source": [
    "data = pd.read_csv(\"pe_data/pe_users_13_14_15-2018-03-19T18.csv\")\n",
    "data\n",
    "data2 = pd.read_csv(\"PE_test_data - Sheet1.csv\")\n",
    "data2\n",
    "\n"
   ]
  },
  {
   "cell_type": "code",
   "execution_count": null,
   "metadata": {
    "collapsed": true
   },
   "outputs": [],
   "source": [
    "def data_storer(data):\n",
    "    article_nums = np.unique(data['taskrun_article_number'])\n",
    "    dict_of_article_df = dict()\n",
    "    for i in article_nums:\n",
    "        article =data[data['taskrun_article_number'] == i]\n",
    "        question_nums = np.unique(article['question_number'])\n",
    "        new_dict = dict()\n",
    "        for x in question_nums:\n",
    "            array = []\n",
    "            array.append(article.loc[article['question_number']== x, 'question_text'][0:1])\n",
    "            \n",
    "            answers = [article.loc[article['question_number']== x, 'answer_number']]\n",
    "            answers.append([article.loc[article['question_number']== x, 'contributor_id']])\n",
    "            answers.append([article.loc[article['question_number']== x, 'start_pos']])\n",
    "            answers.append([article.loc[article['question_number']== x, 'end_pos']])\n",
    "            answers.append([article.loc[article['question_number']== x, 'source_text_length']])\n",
    "            array.append(answers)\n",
    "\n",
    "            new_dict[x] = array\n",
    "            #this is where krippendorf goes\n",
    "        dict_of_article_df[i] = new_dict\n",
    "    return dict_of_article_df"
   ]
  },
  {
   "cell_type": "code",
   "execution_count": null,
   "metadata": {
    "collapsed": true
   },
   "outputs": [],
   "source": [
    "data1 = data_storer(data2)\n"
   ]
  },
  {
   "cell_type": "code",
   "execution_count": null,
   "metadata": {
    "collapsed": true
   },
   "outputs": [],
   "source": [
    "def get_question_text(data,article_num, question_num):\n",
    "    return data[article_num][question_num][0]"
   ]
  },
  {
   "cell_type": "code",
   "execution_count": null,
   "metadata": {
    "collapsed": true
   },
   "outputs": [],
   "source": [
    "def get_question_answers(data, article_num, question_num):\n",
    "    return data[article_num][question_num][1][0]"
   ]
  },
  {
   "cell_type": "code",
   "execution_count": null,
   "metadata": {
    "collapsed": true
   },
   "outputs": [],
   "source": [
    "def get_question_userid(data, article_num, question_num):\n",
    "    return data[article_num][question_num][1][1][0]"
   ]
  },
  {
   "cell_type": "code",
   "execution_count": null,
   "metadata": {
    "collapsed": true
   },
   "outputs": [],
   "source": [
    "def get_question_start(data, article_num, question_num):\n",
    "    return data[article_num][question_num][1][2][0]"
   ]
  },
  {
   "cell_type": "code",
   "execution_count": null,
   "metadata": {
    "collapsed": true
   },
   "outputs": [],
   "source": [
    "def get_question_end(data, article_num, question_num):\n",
    "    return data[article_num][question_num][1][3][0]"
   ]
  },
  {
   "cell_type": "code",
   "execution_count": null,
   "metadata": {
    "collapsed": true
   },
   "outputs": [],
   "source": [
    "def get_text_length(data, article_num, question_num):\n",
    "    return data[article_num][question_num][1][4][0]"
   ]
  },
  {
   "cell_type": "code",
   "execution_count": null,
   "metadata": {
    "collapsed": true
   },
   "outputs": [],
   "source": [
    "def cleanForUnitization(data, article_num, question_num):\n",
    "    returnDict = dict()\n",
    "    returnDict['Offsets'] = get_question_start(data, article_num,question_num).tolist()\n",
    "    returnDict['Ends'] = get_question_end(data, article_num, question_num).tolist()\n",
    "    returnDict['Categories'] = get_question_answers(data, article_num, question_num).tolist()\n",
    "    returnDict['Raters'] = get_question_userid(data, article_num, question_num).tolist()\n",
    "    return returnDict"
   ]
  },
  {
   "cell_type": "code",
   "execution_count": null,
   "metadata": {
    "collapsed": true
   },
   "outputs": [],
   "source": [
    "def get_num_users(data, article_num, question_num):\n",
    "    return len(np.unique(get_question_userid(data, article_num, question_num)))"
   ]
  },
  {
   "cell_type": "code",
   "execution_count": null,
   "metadata": {
    "collapsed": true
   },
   "outputs": [],
   "source": [
    "def get_user_tuples(data, article_num, question_num):\n",
    "    returnDict = dict()\n",
    "    users = get_question_userid(data, article_num, question_num).tolist()\n",
    "    starts = get_question_start(data, article_num, question_num).tolist()\n",
    "    ends = get_question_end(data, article_num, question_num).tolist()\n",
    "    index = 0\n",
    "    for u in users:\n",
    "        returnDict[u] = (starts[index], ends[index])\n",
    "        index+= 1\n",
    "    return returnDict"
   ]
  },
  {
   "cell_type": "code",
   "execution_count": null,
   "metadata": {
    "collapsed": true,
    "scrolled": true
   },
   "outputs": [],
   "source": [
    "def get_user_arrays(data, article_num, question_num):\n",
    "    returnDict = dict()\n",
    "    users = get_question_userid(data, article_num, question_num)\n",
    "    answers = get_question_answers(data, article_num, question_num).tolist()\n",
    "    index = 0\n",
    "    for u in users:\n",
    "        array = np.zeros(max(answers))\n",
    "        array[answers[index]-1] = 1\n",
    "        returnDict[u] = array\n",
    "        index +=1\n",
    "    return returnDict\n",
    "\n",
    "    "
   ]
  },
  {
   "cell_type": "code",
   "execution_count": null,
   "metadata": {
    "collapsed": true
   },
   "outputs": [],
   "source": [
    "def get_question_answer_ratios(dictionary):\n",
    "    users_num = len(dictionary.keys())\n",
    "    returnArray = np.zeros(len(list(dictionary.values())[0]))\n",
    "    for a in dictionary.values():\n",
    "        returnArray = returnArray + a\n",
    "    return (returnArray/users_num).tolist()"
   ]
  },
  {
   "cell_type": "code",
   "execution_count": null,
   "metadata": {
    "collapsed": true
   },
   "outputs": [],
   "source": [
    "def find_agreement_scores_u(data, article_num, question_num):\n",
    "    user_array_dict = get_user_arrays(data, article_num, question_num)\n",
    "    ans_ratio = get_question_answer_ratios(user_array_dict)\n",
    "    num_users = get_num_users(data,article_num, question_num)\n",
    "    grade = test_threshold_matrix(ans_ratio, num_users)\n",
    "    if grade == 'L':\n",
    "        print(\"agreement too low\")\n",
    "        return \n",
    "    elif grade == 'M':\n",
    "        print(\"return to sender\")\n",
    "        return\n",
    "    else:\n",
    "        return find_starts_ends_of_winner(data,article_num,question_num,user_array_dict, ans_ratio)\n",
    "    "
   ]
  },
  {
   "cell_type": "code",
   "execution_count": null,
   "metadata": {},
   "outputs": [],
   "source": [
    "find_agreement_scores_u(data1, 1 ,3)"
   ]
  },
  {
   "cell_type": "code",
   "execution_count": null,
   "metadata": {
    "collapsed": true
   },
   "outputs": [],
   "source": [
    "def find_agreement_scores_c(data, article_num, question_num):\n",
    "    user_array_dict = get_user_arrays(data, article_num, question_num)\n",
    "    ans_ratio = get_question_answer_ratios(user_array_dict)\n",
    "    num_users = get_num_users(data,article_num, question_num)\n",
    "    grade = test_threshold_matrix(ans_ratio, num_users)\n",
    "    if grade == 'L':\n",
    "        print(\"agreement too low\")\n",
    "        return \n",
    "    elif grade == 'M':\n",
    "        print(\"return to sender\")\n",
    "        return\n",
    "    else:\n",
    "        index = ans_ratio.index(max(ans_ratio))\n",
    "        for k in user_array_dict.keys():\n",
    "            if user_array_dict[k][index] == 0:\n",
    "                del user_array_dict[k]\n",
    "        return user_array_dict"
   ]
  },
  {
   "cell_type": "code",
   "execution_count": null,
   "metadata": {},
   "outputs": [],
   "source": [
    "a = get_user_arrays(data1, 1, 3)\n",
    "a\n",
    "\n"
   ]
  },
  {
   "cell_type": "code",
   "execution_count": null,
   "metadata": {},
   "outputs": [],
   "source": [
    "b = get_question_answer_ratios(a)\n",
    "b"
   ]
  },
  {
   "cell_type": "code",
   "execution_count": null,
   "metadata": {},
   "outputs": [],
   "source": [
    "test_dict = cleanForUnitization(data1, 1, 3)\n",
    "type(test_dict['Categories'][0])"
   ]
  },
  {
   "cell_type": "code",
   "execution_count": null,
   "metadata": {
    "collapsed": true
   },
   "outputs": [],
   "source": [
    "def test_threshold_matrix(array, num_of_users):\n",
    "    percentage = max(array)\n",
    "    kappa = 50 *( 1- exp(-num_of_users/15))\n",
    "    omega = 1/1+exp(-kappa*(percentage -.5))\n",
    "    deriv = (kappa * exp(-kappa*(percentage)))/(exp(-kappa*(percentage-.5))+1)**2\n",
    "    if (deriv < 1):\n",
    "        return 'M'\n",
    "    elif (x>=.5):\n",
    "        return 'H'\n",
    "    else:\n",
    "        return 'L'\n",
    "    \n",
    "    \n",
    "    "
   ]
  },
  {
   "cell_type": "code",
   "execution_count": null,
   "metadata": {},
   "outputs": [],
   "source": [
    "test_threshold_matrix(b, 3)"
   ]
  },
  {
   "cell_type": "code",
   "execution_count": null,
   "metadata": {},
   "outputs": [],
   "source": [
    "get_user_tuples(data1, 1, 3)"
   ]
  },
  {
   "cell_type": "code",
   "execution_count": null,
   "metadata": {
    "collapsed": true
   },
   "outputs": [],
   "source": [
    "def find_starts_ends_of_winner(data, article_num, question_num, user_arrays, answer_ratio_array):\n",
    "    user_start_end = get_user_tuples(data, article_num, question_num)\n",
    "    winner_pos = answer_ratio_array.index(max(answer_ratio_array))\n",
    "    for k in user_arrays.keys():\n",
    "        if user_arrays[k][winner_pos] == 0:\n",
    "            del user_start_end[k]\n",
    "    return user_start_end"
   ]
  },
  {
   "cell_type": "code",
   "execution_count": null,
   "metadata": {
    "scrolled": true
   },
   "outputs": [],
   "source": [
    "find_starts_ends_of_winner(data1, 1, 3, a, b)"
   ]
  },
  {
   "cell_type": "code",
   "execution_count": null,
   "metadata": {},
   "outputs": [],
   "source": [
    "type({1:1})"
   ]
  },
  {
   "cell_type": "code",
   "execution_count": null,
   "metadata": {
    "collapsed": true
   },
   "outputs": [],
   "source": [
    "def create_user_dataframe(data):\n",
    "    \"\"\"This function creates a DataFrame of User ID's, Reputation Scores, and number of questions answered.\"\"\"\n",
    "    data1 = pd.DataFrame(columns= ['Users', 'Score','Questions'] )\n",
    "    for article_num in data.keys():\n",
    "        for question_num in data[article_num].keys(): \n",
    "            users_q = get_question_userid(data, article_num, question_num)\n",
    "            for ids in users_q:\n",
    "                if ids not in data1.loc[:,'Users']:\n",
    "                    data1 = data1.append({\"Users\":ids, \"Score\":5, \"Questions\": 1}, ignore_index = True)\n",
    "    return data1"
   ]
  },
  {
   "cell_type": "code",
   "execution_count": null,
   "metadata": {
    "collapsed": true
   },
   "outputs": [],
   "source": [
    "def do_the_calculation_nominal(userID, answers, answer_choice, data):\n",
    "    \"\"\"Using the same dataframe of userIDs, rep scores, and number of questions, changes the vals of the dataframe\n",
    "    such that if the user in the list of USERID gets their answer right, they add 1 to their score, and 0 if they are\n",
    "    wrong.\"\"\"\n",
    "    tups = list()\n",
    "    for ids in userID:\n",
    "        for a in answers:\n",
    "            pair = (ids, a)\n",
    "            if pair not in tups:\n",
    "                tups.append(pair)\n",
    "    for t in tups:\n",
    "        user = t[0]\n",
    "        answer = t[1]\n",
    "        if (answer == answer_choice):\n",
    "            do_math(data, user, 1)\n",
    "        else:\n",
    "            do_math(data, user, 0)"
   ]
  },
  {
   "cell_type": "code",
   "execution_count": null,
   "metadata": {
    "collapsed": true
   },
   "outputs": [],
   "source": [
    "def do_the_calculation_ordinal(userID, answers, answer_aggregated,num_of_choices, data):\n",
    "    \"\"\"Using the same dataframe of userIDs, rep scores, and number of questions, changes the vals of the dataframe\n",
    "    such that the they recieve the distance from the average answer chosen as a ratio of 0 to 1, \n",
    "    and that is added to their rep score.\"\"\"\n",
    "    tups = list()\n",
    "    for ids in userID:\n",
    "        for a in answers:\n",
    "            pair = (ids, a)\n",
    "            if pair not in tups:\n",
    "                tups.append(pair)\n",
    "    answer_choice = np.mean(answer_aggregated)\n",
    "    for t in tups:\n",
    "        user = t[0]\n",
    "        answer = t[1]\n",
    "        points = (1 - abs(answer_choice - answer)/num_of_choices)\n",
    "        do_math(data, user, points)"
   ]
  },
  {
   "cell_type": "code",
   "execution_count": null,
   "metadata": {
    "collapsed": true
   },
   "outputs": [],
   "source": [
    "def do_math(data, userID, reward):\n",
    "    \"\"\"This function takes in the points added to one user and changes the dataframe to update that one user's score\n",
    "    using the equations set for calculating reputation.\"\"\"\n",
    "    user = data.loc[data['Users']== userID]\n",
    "    r = user['Score']\n",
    "    n = user['Questions']\n",
    "    q_score = 10* (1 - exp(-n))\n",
    "    points = r * n / q_score\n",
    "    points = points + reward\n",
    "    n = n+1\n",
    "    q_score = 10* (1 - exp(-n))\n",
    "    user['Questions'] = n\n",
    "    user['Score'] = (points /n) * q_score\n"
   ]
  },
  {
   "cell_type": "code",
   "execution_count": null,
   "metadata": {
    "collapsed": true
   },
   "outputs": [],
   "source": [
    "def calc_influence(data, userID):\n",
    "    \"\"\"Taking in a list of UserID's, this will take the repuation score of each User and output a list of their influence\n",
    "    based on their reputation score.\"\"\"\n",
    "    return_vals = list()\n",
    "    for u in userID:\n",
    "        r = data.loc[data['Users']== u]['Score']\n",
    "        inf = 2/ (1 + exp(-r + 5))\n",
    "        return_vals.append(inf)\n",
    "    return return_vals"
   ]
  },
  {
   "cell_type": "code",
   "execution_count": null,
   "metadata": {
    "collapsed": true
   },
   "outputs": [],
   "source": [
    "def userid_to_CSV(dataframe):\n",
    "    \"\"\"This function will save the User Rep Score dataframe as UserRepScores.csv\"\"\"\n",
    "    dataframe.to_csv(\"UserRepScores\")\n",
    "\n",
    "    "
   ]
  },
  {
   "cell_type": "code",
   "execution_count": null,
   "metadata": {
    "collapsed": true
   },
   "outputs": [],
   "source": [
    "def CSV_to_userid(path):\n",
    "    \"\"\"This function will take in the path name of the UserRepScore.csv and output the dataframe corresponding.\"\"\"\n",
    "    return pd.read_csv(path, index_col = False).loc[:,['Users','Score','Questions']]"
   ]
  },
  {
   "cell_type": "code",
   "execution_count": null,
   "metadata": {},
   "outputs": [],
   "source": [
    "i = create_user_dataframe(data1)\n",
    "userid_to_CSV(i)\n",
    "CSV_to_userid(\"UserRepScores\")\n",
    "i.loc[i['Users'] == 1,\"Score\"] = 4\n",
    "change_user_score(i, 1, 5)\n",
    "calc_influence(i, [1])"
   ]
  },
  {
   "cell_type": "markdown",
   "metadata": {},
   "source": [
    "## 1. Function that takes in raw data and splits by article number into a dict of DF.\n",
    "2. Function that takes in DF of 1 article and outputs a dict"
   ]
  },
  {
   "cell_type": "code",
   "execution_count": null,
   "metadata": {},
   "outputs": [],
   "source": [
    "dataTemp = data_storer(data2)\n",
    "get_question_answers(dataTemp, 1722, 3)"
   ]
  },
  {
   "cell_type": "code",
   "execution_count": null,
   "metadata": {},
   "outputs": [],
   "source": [
    "data3 = pd.read_csv(\"question_scores.csv\")\n",
    "data3"
   ]
  },
  {
   "cell_type": "code",
   "execution_count": null,
   "metadata": {},
   "outputs": [],
   "source": [
    "np.count_nonzero(data3['Agreement Score'])"
   ]
  },
  {
   "cell_type": "code",
   "execution_count": null,
   "metadata": {},
   "outputs": [],
   "source": [
    "data3"
   ]
  },
  {
   "cell_type": "code",
   "execution_count": null,
   "metadata": {
    "collapsed": true
   },
   "outputs": [],
   "source": [
    "data4 = data3[data3['Agreement Score'] != \"2Short loozerz\"].dropna().astype('float64')\n"
   ]
  },
  {
   "cell_type": "markdown",
   "metadata": {},
   "source": [
    "## data3['Agreement Score'].dropna().hist()\n",
    "plt.show()"
   ]
  },
  {
   "cell_type": "code",
   "execution_count": null,
   "metadata": {
    "collapsed": true
   },
   "outputs": [],
   "source": [
    "ord_data = data4[data4['Question Number'].isin([1, 8, 9, 12, 13])]\n",
    "nom_data =  data4[data4['Question Number'].isin([5,10])]\n",
    "int_data =  data4[data4['Question Number'].isin([7,11])]\n",
    "mult_data =  data4[data4['Question Number'].isin([6])]"
   ]
  },
  {
   "cell_type": "code",
   "execution_count": null,
   "metadata": {},
   "outputs": [],
   "source": [
    "ord_data['Agreement Score'].hist()\n",
    "\n",
    "plt.show()"
   ]
  },
  {
   "cell_type": "code",
   "execution_count": null,
   "metadata": {},
   "outputs": [],
   "source": [
    "nom_data['Agreement Score'].hist()\n",
    "plt.show()"
   ]
  },
  {
   "cell_type": "code",
   "execution_count": null,
   "metadata": {},
   "outputs": [],
   "source": [
    "int_data['Agreement Score'].hist()\n",
    "plt.show()"
   ]
  },
  {
   "cell_type": "code",
   "execution_count": null,
   "metadata": {},
   "outputs": [],
   "source": [
    "mult_data['Agreement Score'].hist()\n",
    "plt.show()"
   ]
  },
  {
   "cell_type": "code",
   "execution_count": 13,
   "metadata": {},
   "outputs": [
    {
     "name": "stderr",
     "output_type": "stream",
     "text": [
      "/Users/JoshuaChung/anaconda3/lib/python3.6/site-packages/ipykernel_launcher.py:2: RuntimeWarning: '<' not supported between instances of 'int' and 'str', sort order is undefined for incomparable objects\n",
      "  \n"
     ]
    }
   ],
   "source": [
    "ex = pd.DataFrame(columns= ['users','index'] +list(range(30)))\n",
    "ex = ex.append({\"users\":1, 'index':1}, ignore_index=True)"
   ]
  },
  {
   "cell_type": "code",
   "execution_count": 16,
   "metadata": {},
   "outputs": [],
   "source": [
    "ex.loc[ex['users']==1,1] = 1\n",
    "ex.loc[ex['users']==1,2] = 1\n",
    "ex.loc[ex['users']==1,3] = 1\n",
    "ex.loc[ex['users']==1,4] = 1"
   ]
  },
  {
   "cell_type": "code",
   "execution_count": 29,
   "metadata": {},
   "outputs": [
    {
     "data": {
      "text/html": [
       "<div>\n",
       "<style>\n",
       "    .dataframe thead tr:only-child th {\n",
       "        text-align: right;\n",
       "    }\n",
       "\n",
       "    .dataframe thead th {\n",
       "        text-align: left;\n",
       "    }\n",
       "\n",
       "    .dataframe tbody tr th {\n",
       "        vertical-align: top;\n",
       "    }\n",
       "</style>\n",
       "<table border=\"1\" class=\"dataframe\">\n",
       "  <thead>\n",
       "    <tr style=\"text-align: right;\">\n",
       "      <th></th>\n",
       "      <th>0</th>\n",
       "      <th>1</th>\n",
       "      <th>2</th>\n",
       "      <th>3</th>\n",
       "      <th>4</th>\n",
       "      <th>5</th>\n",
       "      <th>6</th>\n",
       "      <th>7</th>\n",
       "      <th>8</th>\n",
       "      <th>9</th>\n",
       "      <th>...</th>\n",
       "      <th>20</th>\n",
       "      <th>21</th>\n",
       "      <th>22</th>\n",
       "      <th>23</th>\n",
       "      <th>24</th>\n",
       "      <th>25</th>\n",
       "      <th>26</th>\n",
       "      <th>27</th>\n",
       "      <th>28</th>\n",
       "      <th>29</th>\n",
       "    </tr>\n",
       "  </thead>\n",
       "  <tbody>\n",
       "    <tr>\n",
       "      <th>0</th>\n",
       "      <td>NaN</td>\n",
       "      <td>1.0</td>\n",
       "      <td>1.0</td>\n",
       "      <td>1.0</td>\n",
       "      <td>1.0</td>\n",
       "      <td>NaN</td>\n",
       "      <td>NaN</td>\n",
       "      <td>NaN</td>\n",
       "      <td>NaN</td>\n",
       "      <td>NaN</td>\n",
       "      <td>...</td>\n",
       "      <td>NaN</td>\n",
       "      <td>NaN</td>\n",
       "      <td>NaN</td>\n",
       "      <td>NaN</td>\n",
       "      <td>NaN</td>\n",
       "      <td>NaN</td>\n",
       "      <td>NaN</td>\n",
       "      <td>NaN</td>\n",
       "      <td>NaN</td>\n",
       "      <td>NaN</td>\n",
       "    </tr>\n",
       "  </tbody>\n",
       "</table>\n",
       "<p>1 rows × 30 columns</p>\n",
       "</div>"
      ],
      "text/plain": [
       "   0    1    2    3    4   5   6   7   8   9  ...  20  21  22  23  24  25  26  \\\n",
       "0 NaN  1.0  1.0  1.0  1.0 NaN NaN NaN NaN NaN ... NaN NaN NaN NaN NaN NaN NaN   \n",
       "\n",
       "   27  28  29  \n",
       "0 NaN NaN NaN  \n",
       "\n",
       "[1 rows x 30 columns]"
      ]
     },
     "execution_count": 29,
     "metadata": {},
     "output_type": "execute_result"
    }
   ],
   "source": [
    "ex.loc[ex['users']==1, range(30)]\n"
   ]
  },
  {
   "cell_type": "code",
   "execution_count": 33,
   "metadata": {},
   "outputs": [
    {
     "data": {
      "text/plain": [
       "1.0"
      ]
     },
     "execution_count": 33,
     "metadata": {},
     "output_type": "execute_result"
    }
   ],
   "source": [
    "np.mean(np.array(ex.loc[ex['users']==1, range(30)].dropna(axis=1)))"
   ]
  },
  {
   "cell_type": "code",
   "execution_count": null,
   "metadata": {
    "collapsed": true
   },
   "outputs": [],
   "source": []
  }
 ],
 "metadata": {
  "kernelspec": {
   "display_name": "Python 3",
   "language": "python",
   "name": "python3"
  },
  "language_info": {
   "codemirror_mode": {
    "name": "ipython",
    "version": 3
   },
   "file_extension": ".py",
   "mimetype": "text/x-python",
   "name": "python",
   "nbconvert_exporter": "python",
   "pygments_lexer": "ipython3",
   "version": "3.6.1"
  }
 },
 "nbformat": 4,
 "nbformat_minor": 2
}
