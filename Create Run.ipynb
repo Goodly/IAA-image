{
 "cells": [
  {
   "cell_type": "code",
   "execution_count": 1,
   "metadata": {
    "collapsed": true
   },
   "outputs": [],
   "source": [
    "import numpy as np\n",
    "import pandas as pd\n",
    "import random as rand"
   ]
  },
  {
   "cell_type": "code",
   "execution_count": 2,
   "metadata": {
    "collapsed": true
   },
   "outputs": [],
   "source": [
    "def weighted_random_question(agreement_val, correct_ans):\n",
    "    my_list = []\n",
    "    for i in np.arange(1, 6):\n",
    "        if i == correct_ans:\n",
    "            my_list += [str(correct_ans)] * int(agreement_val * 100)\n",
    "        else:\n",
    "            my_list += [str(i)] * int((1 - agreement_val) / abs(correct_ans - i) * 100)\n",
    "    return int(rand.choice(my_list))"
   ]
  },
  {
   "cell_type": "code",
   "execution_count": 3,
   "metadata": {
    "collapsed": true
   },
   "outputs": [],
   "source": [
    "def weighted_random_pos(agreement_val, correct_ans, source_length):\n",
    "    pos_range = int((1 - agreement_val) * source_length)\n",
    "    start = correct_ans - pos_range\n",
    "    end = correct_ans + pos_range + 1\n",
    "    if start < 0:\n",
    "        start = 0\n",
    "    if end > source_length:\n",
    "        end = source_length\n",
    "    interval = np.arange(start, end)\n",
    "    return rand.choice(interval)"
   ]
  },
  {
   "cell_type": "code",
   "execution_count": 4,
   "metadata": {
    "collapsed": true
   },
   "outputs": [],
   "source": [
    "def generate_agreement(agreement, num_users, num_questions, source_len):\n",
    "    answer_number= np.zeros(0)\n",
    "    start_pos = np.zeros(0)\n",
    "    end_pos = np.zeros(0)\n",
    "    for i in np.arange(num_questions):\n",
    "        correct_ans = rand.randint(1, 5)\n",
    "        correct_start = rand.randint(0, 200)\n",
    "        correct_end = rand.randint(correct_start, 200)\n",
    "        for j in np.arange(num_users):\n",
    "            answer_number = np.append(answer_number, weighted_random_question(agreement[j], correct_ans))\n",
    "            start_pos = np.append(start_pos, weighted_random_pos(agreement[j], correct_start, source_len))\n",
    "            end_pos = np.append(end_pos, weighted_random_pos(agreement[j], correct_end, source_len))\n",
    "    return answer_number, start_pos, end_pos"
   ]
  },
  {
   "cell_type": "code",
   "execution_count": 5,
   "metadata": {
    "collapsed": true
   },
   "outputs": [],
   "source": [
    "def create_run(agreement, num_run, num_users = 5, num_questions = 10, source_len = 200, ans_type = 'nominal'):\n",
    "    rows = np.zeros(num_users * num_questions)\n",
    "    inputs = generate_agreement(agreement, num_users, num_questions, source_len)\n",
    "    d = {'taskrun_article_number': rows + num_run, \n",
    "         'contributor_id': np.tile(np.arange(1, num_users + 1), num_questions), \n",
    "         'question_number': np.repeat(np.arange(1, num_questions + 1), num_users), \n",
    "         'answer_number': inputs[0], 'start_pos': inputs[1], \n",
    "         'end_pos': inputs[2], 'source_text_length': rows + source_len, \n",
    "         'answer_type': np.repeat(ans_type, len(rows)), 'question_text': rows}\n",
    "    run = pd.DataFrame(d)\n",
    "    run = run[['taskrun_article_number', 'contributor_id', \n",
    "         'question_number', 'answer_number', 'start_pos', \n",
    "         'end_pos', 'source_text_length', 'answer_type', 'question_text']]\n",
    "    return run"
   ]
  },
  {
   "cell_type": "code",
   "execution_count": null,
   "metadata": {
    "collapsed": true
   },
   "outputs": [],
   "source": [
    "current = create_run([0.9, 1, 1, 1, 1], 4)\n",
    "current"
   ]
  },
  {
   "cell_type": "code",
   "execution_count": 6,
   "metadata": {},
   "outputs": [
    {
     "ename": "NameError",
     "evalue": "name 'current' is not defined",
     "output_type": "error",
     "traceback": [
      "\u001b[1;31m---------------------------------------------------------------------------\u001b[0m",
      "\u001b[1;31mNameError\u001b[0m                                 Traceback (most recent call last)",
      "\u001b[1;32m<ipython-input-6-64b8591d2fce>\u001b[0m in \u001b[0;36m<module>\u001b[1;34m()\u001b[0m\n\u001b[1;32m----> 1\u001b[1;33m \u001b[0mcurrent\u001b[0m\u001b[1;33m.\u001b[0m\u001b[0mto_csv\u001b[0m\u001b[1;33m(\u001b[0m\u001b[1;34m'Rep_Runs/Run3.csv'\u001b[0m\u001b[1;33m)\u001b[0m\u001b[1;33m\u001b[0m\u001b[0m\n\u001b[0m",
      "\u001b[1;31mNameError\u001b[0m: name 'current' is not defined"
     ]
    }
   ],
   "source": [
    "current.to_csv('Rep_Runs/Run3.csv')"
   ]
  },
  {
   "cell_type": "code",
   "execution_count": 7,
   "metadata": {
    "collapsed": true
   },
   "outputs": [],
   "source": [
    "def create_series(agreement_arr):\n",
    "    for i in np.arange(len(agreement_arr)):\n",
    "        current = create_run(agreement_arr[i], i)\n",
    "        current.to_csv('Series_Output/Run' + str(i) + '.csv')"
   ]
  },
  {
   "cell_type": "code",
   "execution_count": null,
   "metadata": {
    "collapsed": true
   },
   "outputs": [],
   "source": [
    "create_series([[0.9, 0.9, 0.9, 0.5, 0.1], [0.9, 0.9, 0.9, 0.5, 0.2], [0.9, 0.9, 0.9, 0.6, 0.3], \n",
    "               [0.9, 0.9, 0.9, 0.7, 0.4], [0.9, 0.9, 0.9, 0.8, 0.5], [0.9, 0.9, 0.9, 0.9, 0.5], \n",
    "               [0.9, 0.9, 0.9, 0.1, 0.6], [0.9, 0.9, 0.9, 0.1, 0.7], [0.9, 0.9, 0.9, 0.1, 0.8], \n",
    "               [0.9, 0.9, 0.9, 0.1, 0.9]])"
   ]
  },
  {
   "cell_type": "code",
   "execution_count": 18,
   "metadata": {
    "collapsed": true
   },
   "outputs": [],
   "source": [
    "create_series([[0.7, 0.7, 0.7, 0.7, 0.1], [0.7, 0.7, 0.7, 0.7, 0.5], [0.7, 0.7, 0.7, 0.7, 0.6], \n",
    "              [0.7, 0.7, 0.7, 0.7, 0.7], [0.7, 0.7, 0.7, 0.7, 0.8], [0.7, 0.7, 0.7, 0.7, 0.9],\n",
    "              [0.7, 0.7, 0.7, 0.7, 0.9], [0.7, 0.7, 0.7, 0.7, 0.9], [0.7, 0.7, 0.7, 0.7, 0.9],\n",
    "              [0.7, 0.7, 0.7, 0.7, 0.9]])"
   ]
  },
  {
   "cell_type": "code",
   "execution_count": 14,
   "metadata": {
    "collapsed": true
   },
   "outputs": [],
   "source": [
    "def create_arrays():\n",
    "    dude = []\n",
    "    array = [.9,.9,.7,.1,.1]\n",
    "    for i in range(50):\n",
    "        dude.append(array[:])\n",
    "    return dude\n",
    "        "
   ]
  },
  {
   "cell_type": "code",
   "execution_count": 16,
   "metadata": {
    "collapsed": true
   },
   "outputs": [],
   "source": [
    "create_series(create_arrays())"
   ]
  },
  {
   "cell_type": "code",
   "execution_count": null,
   "metadata": {
    "collapsed": true
   },
   "outputs": [],
   "source": []
  }
 ],
 "metadata": {
  "kernelspec": {
   "display_name": "Python 3",
   "language": "python",
   "name": "python3"
  },
  "language_info": {
   "codemirror_mode": {
    "name": "ipython",
    "version": 3
   },
   "file_extension": ".py",
   "mimetype": "text/x-python",
   "name": "python",
   "nbconvert_exporter": "python",
   "pygments_lexer": "ipython3",
   "version": "3.6.3"
  }
 },
 "nbformat": 4,
 "nbformat_minor": 2
}
